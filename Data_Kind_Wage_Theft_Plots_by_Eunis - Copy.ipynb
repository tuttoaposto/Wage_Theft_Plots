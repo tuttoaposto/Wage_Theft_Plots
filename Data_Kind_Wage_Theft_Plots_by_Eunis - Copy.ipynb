{
 "cells": [
  {
   "cell_type": "code",
   "execution_count": 1,
   "metadata": {
    "collapsed": false
   },
   "outputs": [
    {
     "name": "stdout",
     "output_type": "stream",
     "text": [
      "\r",
      "Read 8.8% of 228285 rows"
     ]
    },
    {
     "name": "stderr",
     "output_type": "stream",
     "text": [
      "Warning message:\n",
      "In fread(\"whd_whisard.naicHumanReadableLevels.csv\", stringsAsFactors = FALSE, : Bumped column 7 to type character on data row 30675, field contains 'NA'. Coercing previously read values in this column from logical, integer or numeric back to character which may not be lossless; e.g., if '00' and '000' occurred before they will now be just '0', and there may be inconsistencies with treatment of ',,' and ',NA,' too (if they occurred in this column before the bump). If this matters please rerun and set 'colClasses' to 'character' for this column. Please note that column type detection uses the first 5 rows, the middle 5 rows and the last 5 rows, so hopefully this message should be very rare. If reporting to datatable-help, please rerun and include the output from verbose=TRUE."
     ]
    },
    {
     "name": "stdout",
     "output_type": "stream",
     "text": [
      "Read 228285 rows and 121 (of 121) columns from 0.128 GB file in 00:00:05\n",
      "'data.frame':\t228285 obs. of  121 variables:\n",
      " $ case_id                : int  1513023 1513602 1677584 1517734 1518287 1518288 1484831 1484838 1518529 1677943 ...\n",
      " $ trade_nm               : chr  \"Anid Care Home\" \"Eye Land Vision\" \"Bella Vita School (The)\" \"Salvadeos\" ...\n",
      " $ legal_name             : chr  \"Anid Care Home, Inc.\" \"Liaqat A. Khalfe O.D.P.C\" \"The BellaVita School, LLC\" NA ...\n",
      " $ street_addr_1_txt      : chr  \"408 Hill Street\" \"3418 Hwy 6 Suite E\" \"641 Terry Street\" \"16 flagg Place\" ...\n",
      " $ cty_nm                 : chr  \"Ionia\" \"Houston\" \"Longmont\" \"Staten Island\" ...\n",
      " $ st_cd                  : chr  \"MI\" \"TX\" \"CO\" \"NY\" ...\n",
      " $ zip_cd                 : chr  \"48846\" \"77082\" \"80501\" \"10304\" ...\n",
      " $ naic_cd                : chr  \"623990\" \"446130\" \"624410\" \"541310\" ...\n",
      " $ naics_code_description : chr  \"Other Residential Care Facilities\" \"Optical Goods Stores\" \"Child Day Care Services\" \"Architectural Services\" ...\n",
      " $ case_violtn_cnt        : int  3 11 2 1 0 0 0 1 1 3 ...\n",
      " $ cmp_assd_cnt           : num  0 0 0 0 0 0 0 0 0 1000 ...\n",
      " $ ee_violtd_cnt          : int  1 10 0 1 0 0 0 1 1 0 ...\n",
      " $ bw_atp_amt             : num  0 2408 0 936 0 ...\n",
      " $ ee_atp_cnt             : int  0 10 0 1 0 0 0 0 0 0 ...\n",
      " $ findings_start_date    : chr  \"2006-06-10\" \"2006-04-03\" \"2010-12-12\" \"2008-02-11\" ...\n",
      " $ findings_end_date      : chr  \"2008-06-07\" \"2008-03-30\" \"2012-12-11\" \"2008-03-08\" ...\n",
      " $ flsa_violtn_cnt        : int  3 11 2 1 0 0 0 0 0 0 ...\n",
      " $ flsa_repeat_violator   : chr  \"N/A\" \"N/A\" \"N/A\" \"N/A\" ...\n",
      " $ flsa_bw_atp_amt        : num  0 2408 0 936 0 ...\n",
      " $ flsa_ee_atp_cnt        : int  0 10 0 1 0 0 0 0 0 0 ...\n",
      " $ flsa_mw_bw_atp_amt     : num  0 0 0 936 0 0 0 0 0 0 ...\n",
      " $ flsa_ot_bw_atp_amt     : num  0 2408 0 0 0 ...\n",
      " $ flsa_15a3_bw_atp_amt   : num  0 0 0 0 0 0 0 0 0 0 ...\n",
      " $ flsa_cmp_assd_amt      : num  0 0 0 0 0 0 0 0 0 0 ...\n",
      " $ sca_violtn_cnt         : int  0 0 0 0 0 0 0 0 0 0 ...\n",
      " $ sca_bw_atp_amt         : num  0 0 0 0 0 0 0 0 0 0 ...\n",
      " $ sca_ee_atp_cnt         : int  0 0 0 0 0 0 0 0 0 0 ...\n",
      " $ mspa_violtn_cnt        : int  0 0 0 0 0 0 0 0 0 3 ...\n",
      " $ mspa_bw_atp_amt        : num  0 0 0 0 0 0 0 0 0 0 ...\n",
      " $ mspa_ee_atp_cnt        : int  0 0 0 0 0 0 0 0 0 0 ...\n",
      " $ mspa_cmp_assd_amt      : num  0 0 0 0 0 0 0 0 0 1000 ...\n",
      " $ h1b_violtn_cnt         : int  0 0 0 0 0 0 0 0 0 0 ...\n",
      " $ h1b_bw_atp_amt         : num  0 0 0 0 0 0 0 0 0 0 ...\n",
      " $ h1b_ee_atp_cnt         : int  0 0 0 0 0 0 0 0 0 0 ...\n",
      " $ h1b_cmp_assd_amt       : num  0 0 0 0 0 0 0 0 0 0 ...\n",
      " $ fmla_violtn_cnt        : int  0 0 0 0 0 0 0 1 1 0 ...\n",
      " $ fmla_bw_atp_amt        : num  0 0 0 0 0 0 0 0 0 0 ...\n",
      " $ fmla_ee_atp_cnt        : int  0 0 0 0 0 0 0 0 0 0 ...\n",
      " $ fmla_cmp_assd_amt      : int  0 0 0 0 0 0 0 0 0 0 ...\n",
      " $ flsa_cl_violtn_cnt     : int  0 0 0 0 0 0 0 0 0 0 ...\n",
      " $ flsa_cl_minor_cnt      : int  0 0 0 0 0 0 0 0 0 0 ...\n",
      " $ flsa_cl_cmp_assd_amt   : num  0 0 0 0 0 0 0 0 0 0 ...\n",
      " $ dbra_cl_violtn_cnt     : int  0 0 0 0 0 0 0 0 0 0 ...\n",
      " $ dbra_bw_atp_amt        : num  0 0 0 0 0 0 0 0 0 0 ...\n",
      " $ dbra_ee_atp_cnt        : int  0 0 0 0 0 0 0 0 0 0 ...\n",
      " $ h2a_violtn_cnt         : int  0 0 0 0 0 0 0 0 0 0 ...\n",
      " $ h2a_bw_atp_amt         : num  0 0 0 0 0 0 0 0 0 0 ...\n",
      " $ h2a_ee_atp_cnt         : int  0 0 0 0 0 0 0 0 0 0 ...\n",
      " $ h2a_cmp_assd_amt       : num  0 0 0 0 0 0 0 0 0 0 ...\n",
      " $ flsa_smw14_violtn_cnt  : int  0 0 0 0 0 0 0 0 0 0 ...\n",
      " $ flsa_smw14_bw_amt      : num  0 0 0 0 0 0 0 0 0 0 ...\n",
      " $ flsa_smw14_ee_atp_cnt  : int  0 0 0 0 0 0 0 0 0 0 ...\n",
      " $ cwhssa_violtn_cnt      : int  0 0 0 0 0 0 0 0 0 0 ...\n",
      " $ cwhssa_bw_amt          : num  0 0 0 0 0 0 0 0 0 0 ...\n",
      " $ cwhssa_ee_cnt          : int  0 0 0 0 0 0 0 0 0 0 ...\n",
      " $ osha_violtn_cnt        : int  0 0 0 0 0 0 0 0 0 0 ...\n",
      " $ osha_bw_atp_amt        : int  0 0 0 0 0 0 0 0 0 0 ...\n",
      " $ osha_ee_atp_cnt        : int  0 0 0 0 0 0 0 0 0 0 ...\n",
      " $ osha_cmp_assd_amt      : num  0 0 0 0 0 0 0 0 0 0 ...\n",
      " $ eppa_violtn_cnt        : int  0 0 0 0 0 0 0 0 0 0 ...\n",
      " $ eppa_bw_atp_amt        : num  0 0 0 0 0 0 0 0 0 0 ...\n",
      " $ eppa_ee_cnt            : int  0 0 0 0 0 0 0 0 0 0 ...\n",
      " $ eppa_cmp_assd_amt      : int  0 0 0 0 0 0 0 0 0 0 ...\n",
      " $ h1a_violtn_cnt         : int  0 0 0 0 0 0 0 0 0 0 ...\n",
      " $ h1a_bw_atp_amt         : num  0 0 0 0 0 0 0 0 0 0 ...\n",
      " $ h1a_ee_atp_cnt         : int  0 0 0 0 0 0 0 0 0 0 ...\n",
      " $ h1a_cmp_assd_amt       : int  0 0 0 0 0 0 0 0 0 0 ...\n",
      " $ crew_violtn_cnt        : int  0 0 0 0 0 0 0 0 0 0 ...\n",
      " $ crew_bw_atp_amt        : int  0 0 0 0 0 0 0 0 0 0 ...\n",
      " $ crew_ee_atp_cnt        : int  0 0 0 0 0 0 0 0 0 0 ...\n",
      " $ crew_cmp_assd_amt      : int  0 0 0 0 0 0 0 0 0 0 ...\n",
      " $ ccpa_violtn_cnt        : int  0 0 0 0 0 0 0 0 0 0 ...\n",
      " $ ccpa_bw_atp_amt        : num  0 0 0 0 0 0 0 0 0 0 ...\n",
      " $ ccpa_ee_atp_cnt        : int  0 0 0 0 0 0 0 0 0 0 ...\n",
      " $ flsa_smwpw_violtn_cnt  : int  0 0 0 0 0 0 0 0 0 0 ...\n",
      " $ flsa_smwpw_bw_atp_amt  : num  0 0 0 0 0 0 0 0 0 0 ...\n",
      " $ flsa_smwpw_ee_atp_cnt  : int  0 0 0 0 0 0 0 0 0 0 ...\n",
      " $ flsa_hmwkr_violtn_cnt  : int  0 0 0 0 0 0 0 0 0 0 ...\n",
      " $ flsa_hmwkr_bw_atp_amt  : num  0 0 0 0 0 0 0 0 0 0 ...\n",
      " $ flsa_hmwkr_ee_atp_cnt  : int  0 0 0 0 0 0 0 0 0 0 ...\n",
      " $ flsa_hmwkr_cmp_assd_amt: int  0 0 0 0 0 0 0 0 0 0 ...\n",
      " $ ca_violtn_cnt          : int  0 0 0 0 0 0 0 0 0 0 ...\n",
      " $ ca_bw_atp_amt          : num  0 0 0 0 0 0 0 0 0 0 ...\n",
      " $ ca_ee_atp_cnt          : int  0 0 0 0 0 0 0 0 0 0 ...\n",
      " $ pca_violtn_cnt         : int  0 0 0 0 0 0 0 0 0 0 ...\n",
      " $ pca_bw_atp_amt         : num  0 0 0 0 0 0 0 0 0 0 ...\n",
      " $ pca_ee_atp_cnt         : int  0 0 0 0 0 0 0 0 0 0 ...\n",
      " $ flsa_smwap_violtn_cnt  : int  0 0 0 0 0 0 0 0 0 0 ...\n",
      " $ flsa_smwap_bw_atp_amt  : int  0 0 0 0 0 0 0 0 0 0 ...\n",
      " $ flsa_smwap_ee_atp_cnt  : int  0 0 0 0 0 0 0 0 0 0 ...\n",
      " $ flsa_smwft_violtn_cnt  : int  0 0 0 0 0 0 0 0 0 0 ...\n",
      " $ flsa_smwft_bw_atp_amt  : num  0 0 0 0 0 0 0 0 0 0 ...\n",
      " $ flsa_smwft_ee_atp_cnt  : int  0 0 0 0 0 0 0 0 0 0 ...\n",
      " $ flsa_smwl_violtn_cnt   : int  0 0 0 0 0 0 0 0 0 0 ...\n",
      " $ flsa_smwl_bw_atp_amt   : int  0 0 0 0 0 0 0 0 0 0 ...\n",
      " $ flsa_smwl_ee_atp_cnt   : int  0 0 0 0 0 0 0 0 0 0 ...\n",
      " $ flsa_smwmg_violtn_cnt  : int  0 0 0 0 0 0 0 0 0 0 ...\n",
      " $ flsa_smwmg_bw_atp_amt  : int  0 0 0 0 0 0 0 0 0 0 ...\n",
      " $ flsa_smwmg_ee_atp_cnt  : int  0 0 0 0 0 0 0 0 0 0 ...\n",
      "  [list output truncated]\n"
     ]
    },
    {
     "data": {
      "text/html": [
       "<table>\n",
       "<thead><tr><th scope=col>Table_Name</th><th scope=col>Column_Name</th><th scope=col>Proposed_User_Friendly_Column_Name</th><th scope=col>Attribute_Name</th><th scope=col>Definition</th><th scope=col>Column_Datatype</th><th scope=col>Display_Name</th></tr></thead>\n",
       "<tbody>\n",
       "\t<tr><td>whd_whisard            </td><td>case_id                </td><td>Case ID                </td><td>Case ID                </td><td>Unique Case Identifier </td><td>Numeric                </td><td>Case ID                </td></tr>\n",
       "\t<tr><td>whd_whisard            </td><td>trade_nm               </td><td>Trade Name             </td><td>Trade Name             </td><td>Employer Name          </td><td>Char                   </td><td>Trade Name             </td></tr>\n",
       "\t<tr><td>whd_whisard            </td><td>legal_name             </td><td>Legal Name             </td><td>Legal Name             </td><td>Employer Legal Name.   </td><td>Char                   </td><td>Employer Legal Name    </td></tr>\n",
       "\t<tr><td>whd_whisard            </td><td>street_addr_1_txt      </td><td>Employer Street Address</td><td>Employer Street Address</td><td>The street address     </td><td>Char                   </td><td>Address                </td></tr>\n",
       "\t<tr><td>whd_whisard            </td><td>cty_nm                 </td><td>City Name              </td><td>City Name              </td><td>Employer City          </td><td>Char                   </td><td>City                   </td></tr>\n",
       "\t<tr><td>whd_whisard            </td><td>st_cd                  </td><td>State Code             </td><td>State Code             </td><td>Employer State         </td><td>Char                   </td><td>State                  </td></tr>\n",
       "</tbody>\n",
       "</table>\n"
      ],
      "text/latex": [
       "\\begin{tabular}{r|lllllll}\n",
       " Table\\_Name & Column\\_Name & Proposed\\_User\\_Friendly\\_Column\\_Name & Attribute\\_Name & Definition & Column\\_Datatype & Display\\_Name\\\\\n",
       "\\hline\n",
       "\t whd\\_whisard           & case\\_id               & Case ID                 & Case ID                 & Unique Case Identifier  & Numeric                 & Case ID                \\\\\n",
       "\t whd\\_whisard           & trade\\_nm              & Trade Name              & Trade Name              & Employer Name           & Char                    & Trade Name             \\\\\n",
       "\t whd\\_whisard           & legal\\_name            & Legal Name              & Legal Name              & Employer Legal Name.    & Char                    & Employer Legal Name    \\\\\n",
       "\t whd\\_whisard           & street\\_addr\\_1\\_txt & Employer Street Address & Employer Street Address & The street address      & Char                    & Address                \\\\\n",
       "\t whd\\_whisard           & cty\\_nm                & City Name               & City Name               & Employer City           & Char                    & City                   \\\\\n",
       "\t whd\\_whisard           & st\\_cd                 & State Code              & State Code              & Employer State          & Char                    & State                  \\\\\n",
       "\\end{tabular}\n"
      ],
      "text/plain": [
       "  Table_Name  Column_Name       Proposed_User_Friendly_Column_Name\n",
       "1 whd_whisard case_id           Case ID                           \n",
       "2 whd_whisard trade_nm          Trade Name                        \n",
       "3 whd_whisard legal_name        Legal Name                        \n",
       "4 whd_whisard street_addr_1_txt Employer Street Address           \n",
       "5 whd_whisard cty_nm            City Name                         \n",
       "6 whd_whisard st_cd             State Code                        \n",
       "  Attribute_Name          Definition             Column_Datatype\n",
       "1 Case ID                 Unique Case Identifier Numeric        \n",
       "2 Trade Name              Employer Name          Char           \n",
       "3 Legal Name              Employer Legal Name.   Char           \n",
       "4 Employer Street Address The street address     Char           \n",
       "5 City Name               Employer City          Char           \n",
       "6 State Code              Employer State         Char           \n",
       "  Display_Name       \n",
       "1 Case ID            \n",
       "2 Trade Name         \n",
       "3 Employer Legal Name\n",
       "4 Address            \n",
       "5 City               \n",
       "6 State              "
      ]
     },
     "metadata": {},
     "output_type": "display_data"
    },
    {
     "data": {
      "text/html": [
       "<ol class=list-inline>\n",
       "\t<li>'case_id'</li>\n",
       "\t<li>'trade_nm'</li>\n",
       "\t<li>'legal_name'</li>\n",
       "\t<li>'street_addr_1_txt'</li>\n",
       "\t<li>'cty_nm'</li>\n",
       "\t<li>'st_cd'</li>\n",
       "\t<li>'zip_cd'</li>\n",
       "\t<li>'naic_cd'</li>\n",
       "\t<li>'naics_code_description'</li>\n",
       "\t<li>'case_violtn_cnt'</li>\n",
       "\t<li>'cmp_assd_cnt'</li>\n",
       "\t<li>'ee_violtd_cnt'</li>\n",
       "\t<li>'bw_atp_amt'</li>\n",
       "\t<li>'flsa_bw_atp_amt'</li>\n",
       "\t<li>'flsa_ee_atp_cnt'</li>\n",
       "\t<li>'flsa_mw_bw_atp_amt'</li>\n",
       "\t<li>'flsa_ot_bw_atp_amt'</li>\n",
       "\t<li>'flsa_15a3_bw_atp_amt'</li>\n",
       "\t<li>'flsa_cmp_assd_amt'</li>\n",
       "\t<li>'findings_start_date'</li>\n",
       "\t<li>'findings_end_date'</li>\n",
       "\t<li>'naic_cd'</li>\n",
       "\t<li>'naics_code_description'</li>\n",
       "\t<li>'naic_cd_lvl1'</li>\n",
       "\t<li>'naic_cd_lvl2'</li>\n",
       "\t<li>'naic_cd_lvl3'</li>\n",
       "\t<li>'naic_cd_lvl4'</li>\n",
       "\t<li>'naic_cd_lvl5'</li>\n",
       "\t<li>'naic_cd_lvl6'</li>\n",
       "\t<li>'naic_description_lvl2'</li>\n",
       "\t<li>'naic_description_lvl3'</li>\n",
       "\t<li>'naic_description_lvl4'</li>\n",
       "\t<li>'naic_description_lvl5'</li>\n",
       "\t<li>'naic_description_lvl6'</li>\n",
       "</ol>\n"
      ],
      "text/latex": [
       "\\begin{enumerate*}\n",
       "\\item 'case\\_id'\n",
       "\\item 'trade\\_nm'\n",
       "\\item 'legal\\_name'\n",
       "\\item 'street\\_addr\\_1\\_txt'\n",
       "\\item 'cty\\_nm'\n",
       "\\item 'st\\_cd'\n",
       "\\item 'zip\\_cd'\n",
       "\\item 'naic\\_cd'\n",
       "\\item 'naics\\_code\\_description'\n",
       "\\item 'case\\_violtn\\_cnt'\n",
       "\\item 'cmp\\_assd\\_cnt'\n",
       "\\item 'ee\\_violtd\\_cnt'\n",
       "\\item 'bw\\_atp\\_amt'\n",
       "\\item 'flsa\\_bw\\_atp\\_amt'\n",
       "\\item 'flsa\\_ee\\_atp\\_cnt'\n",
       "\\item 'flsa\\_mw\\_bw\\_atp\\_amt'\n",
       "\\item 'flsa\\_ot\\_bw\\_atp\\_amt'\n",
       "\\item 'flsa\\_15a3\\_bw\\_atp\\_amt'\n",
       "\\item 'flsa\\_cmp\\_assd\\_amt'\n",
       "\\item 'findings\\_start\\_date'\n",
       "\\item 'findings\\_end\\_date'\n",
       "\\item 'naic\\_cd'\n",
       "\\item 'naics\\_code\\_description'\n",
       "\\item 'naic\\_cd\\_lvl1'\n",
       "\\item 'naic\\_cd\\_lvl2'\n",
       "\\item 'naic\\_cd\\_lvl3'\n",
       "\\item 'naic\\_cd\\_lvl4'\n",
       "\\item 'naic\\_cd\\_lvl5'\n",
       "\\item 'naic\\_cd\\_lvl6'\n",
       "\\item 'naic\\_description\\_lvl2'\n",
       "\\item 'naic\\_description\\_lvl3'\n",
       "\\item 'naic\\_description\\_lvl4'\n",
       "\\item 'naic\\_description\\_lvl5'\n",
       "\\item 'naic\\_description\\_lvl6'\n",
       "\\end{enumerate*}\n"
      ],
      "text/markdown": [
       "1. 'case_id'\n",
       "2. 'trade_nm'\n",
       "3. 'legal_name'\n",
       "4. 'street_addr_1_txt'\n",
       "5. 'cty_nm'\n",
       "6. 'st_cd'\n",
       "7. 'zip_cd'\n",
       "8. 'naic_cd'\n",
       "9. 'naics_code_description'\n",
       "10. 'case_violtn_cnt'\n",
       "11. 'cmp_assd_cnt'\n",
       "12. 'ee_violtd_cnt'\n",
       "13. 'bw_atp_amt'\n",
       "14. 'flsa_bw_atp_amt'\n",
       "15. 'flsa_ee_atp_cnt'\n",
       "16. 'flsa_mw_bw_atp_amt'\n",
       "17. 'flsa_ot_bw_atp_amt'\n",
       "18. 'flsa_15a3_bw_atp_amt'\n",
       "19. 'flsa_cmp_assd_amt'\n",
       "20. 'findings_start_date'\n",
       "21. 'findings_end_date'\n",
       "22. 'naic_cd'\n",
       "23. 'naics_code_description'\n",
       "24. 'naic_cd_lvl1'\n",
       "25. 'naic_cd_lvl2'\n",
       "26. 'naic_cd_lvl3'\n",
       "27. 'naic_cd_lvl4'\n",
       "28. 'naic_cd_lvl5'\n",
       "29. 'naic_cd_lvl6'\n",
       "30. 'naic_description_lvl2'\n",
       "31. 'naic_description_lvl3'\n",
       "32. 'naic_description_lvl4'\n",
       "33. 'naic_description_lvl5'\n",
       "34. 'naic_description_lvl6'\n",
       "\n",
       "\n"
      ],
      "text/plain": [
       " [1] \"case_id\"                \"trade_nm\"               \"legal_name\"            \n",
       " [4] \"street_addr_1_txt\"      \"cty_nm\"                 \"st_cd\"                 \n",
       " [7] \"zip_cd\"                 \"naic_cd\"                \"naics_code_description\"\n",
       "[10] \"case_violtn_cnt\"        \"cmp_assd_cnt\"           \"ee_violtd_cnt\"         \n",
       "[13] \"bw_atp_amt\"             \"flsa_bw_atp_amt\"        \"flsa_ee_atp_cnt\"       \n",
       "[16] \"flsa_mw_bw_atp_amt\"     \"flsa_ot_bw_atp_amt\"     \"flsa_15a3_bw_atp_amt\"  \n",
       "[19] \"flsa_cmp_assd_amt\"      \"findings_start_date\"    \"findings_end_date\"     \n",
       "[22] \"naic_cd\"                \"naics_code_description\" \"naic_cd_lvl1\"          \n",
       "[25] \"naic_cd_lvl2\"           \"naic_cd_lvl3\"           \"naic_cd_lvl4\"          \n",
       "[28] \"naic_cd_lvl5\"           \"naic_cd_lvl6\"           \"naic_description_lvl2\" \n",
       "[31] \"naic_description_lvl3\"  \"naic_description_lvl4\"  \"naic_description_lvl5\" \n",
       "[34] \"naic_description_lvl6\" "
      ]
     },
     "metadata": {},
     "output_type": "display_data"
    },
    {
     "data": {
      "text/html": [
       "<ol class=list-inline>\n",
       "\t<li>'case_id'</li>\n",
       "\t<li>'trade_nm'</li>\n",
       "\t<li>'legal_name'</li>\n",
       "\t<li>'street_addr_1_txt'</li>\n",
       "\t<li>'cty_nm'</li>\n",
       "\t<li>'st_cd'</li>\n",
       "\t<li>'zip_cd'</li>\n",
       "\t<li>'naic_cd'</li>\n",
       "\t<li>'naics_code_description'</li>\n",
       "\t<li>'case_violtn_cnt'</li>\n",
       "\t<li>'cmp_assd_cnt'</li>\n",
       "\t<li>'ee_violtd_cnt'</li>\n",
       "\t<li>'bw_atp_amt'</li>\n",
       "\t<li>'flsa_bw_atp_amt'</li>\n",
       "\t<li>'flsa_ee_atp_cnt'</li>\n",
       "\t<li>'flsa_mw_bw_atp_amt'</li>\n",
       "\t<li>'flsa_ot_bw_atp_amt'</li>\n",
       "\t<li>'flsa_15a3_bw_atp_amt'</li>\n",
       "\t<li>'flsa_cmp_assd_amt'</li>\n",
       "\t<li>'findings_start_date'</li>\n",
       "\t<li>'findings_end_date'</li>\n",
       "\t<li>'naic_cd.1'</li>\n",
       "\t<li>'naics_code_description.1'</li>\n",
       "\t<li>'naic_cd_lvl1'</li>\n",
       "\t<li>'naic_cd_lvl2'</li>\n",
       "\t<li>'naic_cd_lvl3'</li>\n",
       "\t<li>'naic_cd_lvl4'</li>\n",
       "\t<li>'naic_cd_lvl5'</li>\n",
       "\t<li>'naic_cd_lvl6'</li>\n",
       "\t<li>'naic_description_lvl2'</li>\n",
       "\t<li>'naic_description_lvl3'</li>\n",
       "\t<li>'naic_description_lvl4'</li>\n",
       "\t<li>'naic_description_lvl5'</li>\n",
       "\t<li>'naic_description_lvl6'</li>\n",
       "</ol>\n"
      ],
      "text/latex": [
       "\\begin{enumerate*}\n",
       "\\item 'case\\_id'\n",
       "\\item 'trade\\_nm'\n",
       "\\item 'legal\\_name'\n",
       "\\item 'street\\_addr\\_1\\_txt'\n",
       "\\item 'cty\\_nm'\n",
       "\\item 'st\\_cd'\n",
       "\\item 'zip\\_cd'\n",
       "\\item 'naic\\_cd'\n",
       "\\item 'naics\\_code\\_description'\n",
       "\\item 'case\\_violtn\\_cnt'\n",
       "\\item 'cmp\\_assd\\_cnt'\n",
       "\\item 'ee\\_violtd\\_cnt'\n",
       "\\item 'bw\\_atp\\_amt'\n",
       "\\item 'flsa\\_bw\\_atp\\_amt'\n",
       "\\item 'flsa\\_ee\\_atp\\_cnt'\n",
       "\\item 'flsa\\_mw\\_bw\\_atp\\_amt'\n",
       "\\item 'flsa\\_ot\\_bw\\_atp\\_amt'\n",
       "\\item 'flsa\\_15a3\\_bw\\_atp\\_amt'\n",
       "\\item 'flsa\\_cmp\\_assd\\_amt'\n",
       "\\item 'findings\\_start\\_date'\n",
       "\\item 'findings\\_end\\_date'\n",
       "\\item 'naic\\_cd.1'\n",
       "\\item 'naics\\_code\\_description.1'\n",
       "\\item 'naic\\_cd\\_lvl1'\n",
       "\\item 'naic\\_cd\\_lvl2'\n",
       "\\item 'naic\\_cd\\_lvl3'\n",
       "\\item 'naic\\_cd\\_lvl4'\n",
       "\\item 'naic\\_cd\\_lvl5'\n",
       "\\item 'naic\\_cd\\_lvl6'\n",
       "\\item 'naic\\_description\\_lvl2'\n",
       "\\item 'naic\\_description\\_lvl3'\n",
       "\\item 'naic\\_description\\_lvl4'\n",
       "\\item 'naic\\_description\\_lvl5'\n",
       "\\item 'naic\\_description\\_lvl6'\n",
       "\\end{enumerate*}\n"
      ],
      "text/markdown": [
       "1. 'case_id'\n",
       "2. 'trade_nm'\n",
       "3. 'legal_name'\n",
       "4. 'street_addr_1_txt'\n",
       "5. 'cty_nm'\n",
       "6. 'st_cd'\n",
       "7. 'zip_cd'\n",
       "8. 'naic_cd'\n",
       "9. 'naics_code_description'\n",
       "10. 'case_violtn_cnt'\n",
       "11. 'cmp_assd_cnt'\n",
       "12. 'ee_violtd_cnt'\n",
       "13. 'bw_atp_amt'\n",
       "14. 'flsa_bw_atp_amt'\n",
       "15. 'flsa_ee_atp_cnt'\n",
       "16. 'flsa_mw_bw_atp_amt'\n",
       "17. 'flsa_ot_bw_atp_amt'\n",
       "18. 'flsa_15a3_bw_atp_amt'\n",
       "19. 'flsa_cmp_assd_amt'\n",
       "20. 'findings_start_date'\n",
       "21. 'findings_end_date'\n",
       "22. 'naic_cd.1'\n",
       "23. 'naics_code_description.1'\n",
       "24. 'naic_cd_lvl1'\n",
       "25. 'naic_cd_lvl2'\n",
       "26. 'naic_cd_lvl3'\n",
       "27. 'naic_cd_lvl4'\n",
       "28. 'naic_cd_lvl5'\n",
       "29. 'naic_cd_lvl6'\n",
       "30. 'naic_description_lvl2'\n",
       "31. 'naic_description_lvl3'\n",
       "32. 'naic_description_lvl4'\n",
       "33. 'naic_description_lvl5'\n",
       "34. 'naic_description_lvl6'\n",
       "\n",
       "\n"
      ],
      "text/plain": [
       " [1] \"case_id\"                  \"trade_nm\"                \n",
       " [3] \"legal_name\"               \"street_addr_1_txt\"       \n",
       " [5] \"cty_nm\"                   \"st_cd\"                   \n",
       " [7] \"zip_cd\"                   \"naic_cd\"                 \n",
       " [9] \"naics_code_description\"   \"case_violtn_cnt\"         \n",
       "[11] \"cmp_assd_cnt\"             \"ee_violtd_cnt\"           \n",
       "[13] \"bw_atp_amt\"               \"flsa_bw_atp_amt\"         \n",
       "[15] \"flsa_ee_atp_cnt\"          \"flsa_mw_bw_atp_amt\"      \n",
       "[17] \"flsa_ot_bw_atp_amt\"       \"flsa_15a3_bw_atp_amt\"    \n",
       "[19] \"flsa_cmp_assd_amt\"        \"findings_start_date\"     \n",
       "[21] \"findings_end_date\"        \"naic_cd.1\"               \n",
       "[23] \"naics_code_description.1\" \"naic_cd_lvl1\"            \n",
       "[25] \"naic_cd_lvl2\"             \"naic_cd_lvl3\"            \n",
       "[27] \"naic_cd_lvl4\"             \"naic_cd_lvl5\"            \n",
       "[29] \"naic_cd_lvl6\"             \"naic_description_lvl2\"   \n",
       "[31] \"naic_description_lvl3\"    \"naic_description_lvl4\"   \n",
       "[33] \"naic_description_lvl5\"    \"naic_description_lvl6\"   "
      ]
     },
     "metadata": {},
     "output_type": "display_data"
    },
    {
     "data": {
      "text/plain": [
       "    case_id            trade_nm          legal_name        street_addr_1_txt \n",
       " Min.   :1.918e+03   Length:228285      Length:228285      Length:228285     \n",
       " 1st Qu.:1.465e+06   Class :character   Class :character   Class :character  \n",
       " Median :1.570e+06   Mode  :character   Mode  :character   Mode  :character  \n",
       " Mean   :1.570e+06                                                           \n",
       " 3rd Qu.:1.673e+06                                                           \n",
       " Max.   :1.081e+09                                                           \n",
       "    cty_nm             st_cd              zip_cd            naic_cd         \n",
       " Length:228285      Length:228285      Length:228285      Length:228285     \n",
       " Class :character   Class :character   Class :character   Class :character  \n",
       " Mode  :character   Mode  :character   Mode  :character   Mode  :character  \n",
       "                                                                            \n",
       "                                                                            \n",
       "                                                                            \n",
       " naics_code_description case_violtn_cnt     cmp_assd_cnt      \n",
       " Length:228285          Min.   :     0.0   Min.   :      0.0  \n",
       " Class :character       1st Qu.:     1.0   1st Qu.:      0.0  \n",
       " Mode  :character       Median :     3.0   Median :      0.0  \n",
       "                        Mean   :    29.1   Mean   :    555.7  \n",
       "                        3rd Qu.:    11.0   3rd Qu.:      0.0  \n",
       "                        Max.   :530002.0   Max.   :3129900.0  \n",
       " ee_violtd_cnt        bw_atp_amt       flsa_bw_atp_amt    flsa_ee_atp_cnt   \n",
       " Min.   :    0.00   Min.   :       0   Min.   :       0   Min.   :    0.00  \n",
       " 1st Qu.:    0.00   1st Qu.:       0   1st Qu.:       0   1st Qu.:    0.00  \n",
       " Median :    2.00   Median :     323   Median :       0   Median :    0.00  \n",
       " Mean   :   13.87   Mean   :   10545   Mean   :    7796   Mean   :   10.88  \n",
       " 3rd Qu.:    9.00   3rd Qu.:    5107   3rd Qu.:    3395   3rd Qu.:    6.00  \n",
       " Max.   :76664.00   Max.   :30857205   Max.   :30857205   Max.   :76664.00  \n",
       " flsa_mw_bw_atp_amt flsa_ot_bw_atp_amt flsa_15a3_bw_atp_amt flsa_cmp_assd_amt \n",
       " Min.   :      0    Min.   :       0   Min.   :     0.00    Min.   :     0.0  \n",
       " 1st Qu.:      0    1st Qu.:       0   1st Qu.:     0.00    1st Qu.:     0.0  \n",
       " Median :      0    Median :       0   Median :     0.00    Median :     0.0  \n",
       " Mean   :   1134    Mean   :    6656   Mean   :     3.07    Mean   :   218.4  \n",
       " 3rd Qu.:      0    3rd Qu.:    2424   3rd Qu.:     0.00    3rd Qu.:     0.0  \n",
       " Max.   :1426727    Max.   :30857205   Max.   :103847.31    Max.   :708950.0  \n",
       " findings_start_date findings_end_date   naic_cd.1        \n",
       " Length:228285       Length:228285      Length:228285     \n",
       " Class :character    Class :character   Class :character  \n",
       " Mode  :character    Mode  :character   Mode  :character  \n",
       "                                                          \n",
       "                                                          \n",
       "                                                          \n",
       " naics_code_description.1 naic_cd_lvl1       naic_cd_lvl2      \n",
       " Length:228285            Length:228285      Length:228285     \n",
       " Class :character         Class :character   Class :character  \n",
       " Mode  :character         Mode  :character   Mode  :character  \n",
       "                                                               \n",
       "                                                               \n",
       "                                                               \n",
       " naic_cd_lvl3       naic_cd_lvl4       naic_cd_lvl5       naic_cd_lvl6      \n",
       " Length:228285      Length:228285      Length:228285      Length:228285     \n",
       " Class :character   Class :character   Class :character   Class :character  \n",
       " Mode  :character   Mode  :character   Mode  :character   Mode  :character  \n",
       "                                                                            \n",
       "                                                                            \n",
       "                                                                            \n",
       " naic_description_lvl2 naic_description_lvl3 naic_description_lvl4\n",
       " Length:228285         Length:228285         Length:228285        \n",
       " Class :character      Class :character      Class :character     \n",
       " Mode  :character      Mode  :character      Mode  :character     \n",
       "                                                                  \n",
       "                                                                  \n",
       "                                                                  \n",
       " naic_description_lvl5 naic_description_lvl6\n",
       " Length:228285         Length:228285        \n",
       " Class :character      Class :character     \n",
       " Mode  :character      Mode  :character     \n",
       "                                            \n",
       "                                            \n",
       "                                            "
      ]
     },
     "metadata": {},
     "output_type": "display_data"
    }
   ],
   "source": [
    "#Load wage theft national data\n",
    "library(data.table)\n",
    "whd <- as.data.frame(fread(\"whd_whisard.naicHumanReadableLevels.csv\", stringsAsFactors = FALSE,  na.strings = \"\"))\n",
    "str(whd)\n",
    "\n",
    "#Load data dictionary\n",
    "dd <- fread(\"whd_dd.csv\", na.strings = \"\")\n",
    "head(dd)\n",
    "col <- dd$Column_Name[!is.na(dd$Proposed_User_Friendly_Column_Name)| \n",
    "                        dd$Column_Name %in% c(\"findings_start_date\", \"findings_end_date\")]\n",
    "col <- c(col, grep(\"naic\", names(whd), value = TRUE)) #also need the naic description variables\n",
    "col\n",
    "\n",
    "#Subset whd data to just columns of primary interest\n",
    "whd <- whd[c(col)]\n",
    "names(whd) #34 columns\n",
    "\n",
    "summary(whd)"
   ]
  },
  {
   "cell_type": "code",
   "execution_count": 2,
   "metadata": {
    "collapsed": false,
    "scrolled": false
   },
   "outputs": [
    {
     "name": "stderr",
     "output_type": "stream",
     "text": [
      "\n",
      "Attaching package: 'lubridate'\n",
      "\n",
      "The following objects are masked from 'package:data.table':\n",
      "\n",
      "    hour, mday, month, quarter, wday, week, yday, year\n",
      "\n",
      "The following object is masked from 'package:base':\n",
      "\n",
      "    date\n",
      "\n"
     ]
    },
    {
     "data": {
      "text/html": [
       "0"
      ],
      "text/latex": [
       "0"
      ],
      "text/markdown": [
       "0"
      ],
      "text/plain": [
       "[1] 0"
      ]
     },
     "metadata": {},
     "output_type": "display_data"
    },
    {
     "data": {
      "text/html": [
       "0"
      ],
      "text/latex": [
       "0"
      ],
      "text/markdown": [
       "0"
      ],
      "text/plain": [
       "[1] 0"
      ]
     },
     "metadata": {},
     "output_type": "display_data"
    },
    {
     "data": {
      "text/html": [
       "0"
      ],
      "text/latex": [
       "0"
      ],
      "text/markdown": [
       "0"
      ],
      "text/plain": [
       "[1] 0"
      ]
     },
     "metadata": {},
     "output_type": "display_data"
    },
    {
     "data": {
      "text/html": [
       "0"
      ],
      "text/latex": [
       "0"
      ],
      "text/markdown": [
       "0"
      ],
      "text/plain": [
       "[1] 0"
      ]
     },
     "metadata": {},
     "output_type": "display_data"
    },
    {
     "data": {
      "text/html": [
       "<table>\n",
       "<thead><tr><th></th><th scope=col>findings_start_date</th><th scope=col>inv_start_date</th></tr></thead>\n",
       "<tbody>\n",
       "\t<tr><th scope=row>169817</th><td>0200-10-30</td><td>0200-10-30</td></tr>\n",
       "\t<tr><th scope=row>49486</th><td>0201-10-25</td><td>0201-10-25</td></tr>\n",
       "\t<tr><th scope=row>117941</th><td>0213-08-15</td><td>0213-08-15</td></tr>\n",
       "\t<tr><th scope=row>39103</th><td>1900-01-09</td><td>1900-01-09</td></tr>\n",
       "\t<tr><th scope=row>207545</th><td>1909-09-15</td><td>1909-09-15</td></tr>\n",
       "\t<tr><th scope=row>151667</th><td>1930-10-01</td><td>1930-10-01</td></tr>\n",
       "</tbody>\n",
       "</table>\n"
      ],
      "text/latex": [
       "\\begin{tabular}{r|ll}\n",
       "  & findings\\_start\\_date & inv\\_start\\_date\\\\\n",
       "\\hline\n",
       "\t169817 & 0200-10-30 & 0200-10-30\\\\\n",
       "\t49486 & 0201-10-25 & 0201-10-25\\\\\n",
       "\t117941 & 0213-08-15 & 0213-08-15\\\\\n",
       "\t39103 & 1900-01-09 & 1900-01-09\\\\\n",
       "\t207545 & 1909-09-15 & 1909-09-15\\\\\n",
       "\t151667 & 1930-10-01 & 1930-10-01\\\\\n",
       "\\end{tabular}\n"
      ],
      "text/plain": [
       "       findings_start_date inv_start_date\n",
       "169817 0200-10-30          0200-10-30    \n",
       "49486  0201-10-25          0201-10-25    \n",
       "117941 0213-08-15          0213-08-15    \n",
       "39103  1900-01-09          1900-01-09    \n",
       "207545 1909-09-15          1909-09-15    \n",
       "151667 1930-10-01          1930-10-01    "
      ]
     },
     "metadata": {},
     "output_type": "display_data"
    },
    {
     "data": {
      "text/html": [
       "<table>\n",
       "<thead><tr><th></th><th scope=col>findings_start_date</th><th scope=col>inv_start_date</th></tr></thead>\n",
       "<tbody>\n",
       "\t<tr><th scope=row>188485</th><td>2016-02-21</td><td>2016-02-21</td></tr>\n",
       "\t<tr><th scope=row>188512</th><td>2016-02-23</td><td>2016-02-23</td></tr>\n",
       "\t<tr><th scope=row>188513</th><td>2016-03-07</td><td>2016-03-07</td></tr>\n",
       "\t<tr><th scope=row>188565</th><td>2016-03-07</td><td>2016-03-07</td></tr>\n",
       "\t<tr><th scope=row>186776</th><td>2016-03-16</td><td>2016-03-16</td></tr>\n",
       "\t<tr><th scope=row>185977</th><td>2016-03-17</td><td>2016-03-17</td></tr>\n",
       "</tbody>\n",
       "</table>\n"
      ],
      "text/latex": [
       "\\begin{tabular}{r|ll}\n",
       "  & findings\\_start\\_date & inv\\_start\\_date\\\\\n",
       "\\hline\n",
       "\t188485 & 2016-02-21 & 2016-02-21\\\\\n",
       "\t188512 & 2016-02-23 & 2016-02-23\\\\\n",
       "\t188513 & 2016-03-07 & 2016-03-07\\\\\n",
       "\t188565 & 2016-03-07 & 2016-03-07\\\\\n",
       "\t186776 & 2016-03-16 & 2016-03-16\\\\\n",
       "\t185977 & 2016-03-17 & 2016-03-17\\\\\n",
       "\\end{tabular}\n"
      ],
      "text/plain": [
       "       findings_start_date inv_start_date\n",
       "188485 2016-02-21          2016-02-21    \n",
       "188512 2016-02-23          2016-02-23    \n",
       "188513 2016-03-07          2016-03-07    \n",
       "188565 2016-03-07          2016-03-07    \n",
       "186776 2016-03-16          2016-03-16    \n",
       "185977 2016-03-17          2016-03-17    "
      ]
     },
     "metadata": {},
     "output_type": "display_data"
    },
    {
     "data": {
      "text/html": [
       "<table>\n",
       "<thead><tr><th></th><th scope=col>findings_end_date</th><th scope=col>inv_end_date</th></tr></thead>\n",
       "<tbody>\n",
       "\t<tr><th scope=row>90502</th><td>1985-06-01</td><td>1985-06-01</td></tr>\n",
       "\t<tr><th scope=row>143711</th><td>1987-02-07</td><td>1987-02-07</td></tr>\n",
       "\t<tr><th scope=row>172674</th><td>1988-01-01</td><td>1988-01-01</td></tr>\n",
       "\t<tr><th scope=row>209205</th><td>1988-01-01</td><td>1988-01-01</td></tr>\n",
       "\t<tr><th scope=row>172675</th><td>1988-01-11</td><td>1988-01-11</td></tr>\n",
       "\t<tr><th scope=row>170165</th><td>1988-01-27</td><td>1988-01-27</td></tr>\n",
       "</tbody>\n",
       "</table>\n"
      ],
      "text/latex": [
       "\\begin{tabular}{r|ll}\n",
       "  & findings\\_end\\_date & inv\\_end\\_date\\\\\n",
       "\\hline\n",
       "\t90502 & 1985-06-01 & 1985-06-01\\\\\n",
       "\t143711 & 1987-02-07 & 1987-02-07\\\\\n",
       "\t172674 & 1988-01-01 & 1988-01-01\\\\\n",
       "\t209205 & 1988-01-01 & 1988-01-01\\\\\n",
       "\t172675 & 1988-01-11 & 1988-01-11\\\\\n",
       "\t170165 & 1988-01-27 & 1988-01-27\\\\\n",
       "\\end{tabular}\n"
      ],
      "text/plain": [
       "       findings_end_date inv_end_date\n",
       "90502  1985-06-01        1985-06-01  \n",
       "143711 1987-02-07        1987-02-07  \n",
       "172674 1988-01-01        1988-01-01  \n",
       "209205 1988-01-01        1988-01-01  \n",
       "172675 1988-01-11        1988-01-11  \n",
       "170165 1988-01-27        1988-01-27  "
      ]
     },
     "metadata": {},
     "output_type": "display_data"
    },
    {
     "data": {
      "text/html": [
       "<table>\n",
       "<thead><tr><th></th><th scope=col>findings_end_date</th><th scope=col>inv_end_date</th></tr></thead>\n",
       "<tbody>\n",
       "\t<tr><th scope=row>186015</th><td>2016-03-22</td><td>2016-03-22</td></tr>\n",
       "\t<tr><th scope=row>185977</th><td>2016-03-23</td><td>2016-03-23</td></tr>\n",
       "\t<tr><th scope=row>187564</th><td>2016-03-24</td><td>2016-03-24</td></tr>\n",
       "\t<tr><th scope=row>188555</th><td>2016-03-25</td><td>2016-03-25</td></tr>\n",
       "\t<tr><th scope=row>188512</th><td>2016-03-29</td><td>2016-03-29</td></tr>\n",
       "\t<tr><th scope=row>33686</th><td>2024-04-22</td><td>2024-04-22</td></tr>\n",
       "</tbody>\n",
       "</table>\n"
      ],
      "text/latex": [
       "\\begin{tabular}{r|ll}\n",
       "  & findings\\_end\\_date & inv\\_end\\_date\\\\\n",
       "\\hline\n",
       "\t186015 & 2016-03-22 & 2016-03-22\\\\\n",
       "\t185977 & 2016-03-23 & 2016-03-23\\\\\n",
       "\t187564 & 2016-03-24 & 2016-03-24\\\\\n",
       "\t188555 & 2016-03-25 & 2016-03-25\\\\\n",
       "\t188512 & 2016-03-29 & 2016-03-29\\\\\n",
       "\t33686 & 2024-04-22 & 2024-04-22\\\\\n",
       "\\end{tabular}\n"
      ],
      "text/plain": [
       "       findings_end_date inv_end_date\n",
       "186015 2016-03-22        2016-03-22  \n",
       "185977 2016-03-23        2016-03-23  \n",
       "187564 2016-03-24        2016-03-24  \n",
       "188555 2016-03-25        2016-03-25  \n",
       "188512 2016-03-29        2016-03-29  \n",
       "33686  2024-04-22        2024-04-22  "
      ]
     },
     "metadata": {},
     "output_type": "display_data"
    },
    {
     "data": {
      "text/html": [
       "<table>\n",
       "<thead><tr><th></th><th scope=col>findings_start_date</th><th scope=col>findings_end_date</th><th scope=col>inv_start_date</th><th scope=col>yr_strt</th><th scope=col>yr_end</th></tr></thead>\n",
       "<tbody>\n",
       "\t<tr><th scope=row>169817</th><td>0200-10-30</td><td>2002-10-30</td><td>0200-10-30</td><td> 200      </td><td>2002      </td></tr>\n",
       "\t<tr><th scope=row>49486</th><td>0201-10-25</td><td>2013-12-10</td><td>0201-10-25</td><td> 201      </td><td>2013      </td></tr>\n",
       "\t<tr><th scope=row>117941</th><td>0213-08-15</td><td>2013-08-15</td><td>0213-08-15</td><td> 213      </td><td>2013      </td></tr>\n",
       "\t<tr><th scope=row>39103</th><td>1900-01-09</td><td>2003-11-01</td><td>1900-01-09</td><td>1900      </td><td>2003      </td></tr>\n",
       "\t<tr><th scope=row>207545</th><td>1909-09-15</td><td>1991-02-15</td><td>1909-09-15</td><td>1909      </td><td>1991      </td></tr>\n",
       "\t<tr><th scope=row>151667</th><td>1930-10-01</td><td>2005-01-15</td><td>1930-10-01</td><td>1930      </td><td>2005      </td></tr>\n",
       "</tbody>\n",
       "</table>\n"
      ],
      "text/latex": [
       "\\begin{tabular}{r|lllll}\n",
       "  & findings\\_start\\_date & findings\\_end\\_date & inv\\_start\\_date & yr\\_strt & yr\\_end\\\\\n",
       "\\hline\n",
       "\t169817 & 0200-10-30 & 2002-10-30 & 0200-10-30 &  200       & 2002      \\\\\n",
       "\t49486 & 0201-10-25 & 2013-12-10 & 0201-10-25 &  201       & 2013      \\\\\n",
       "\t117941 & 0213-08-15 & 2013-08-15 & 0213-08-15 &  213       & 2013      \\\\\n",
       "\t39103 & 1900-01-09 & 2003-11-01 & 1900-01-09 & 1900       & 2003      \\\\\n",
       "\t207545 & 1909-09-15 & 1991-02-15 & 1909-09-15 & 1909       & 1991      \\\\\n",
       "\t151667 & 1930-10-01 & 2005-01-15 & 1930-10-01 & 1930       & 2005      \\\\\n",
       "\\end{tabular}\n"
      ],
      "text/plain": [
       "       findings_start_date findings_end_date inv_start_date yr_strt yr_end\n",
       "169817 0200-10-30          2002-10-30        0200-10-30      200    2002  \n",
       "49486  0201-10-25          2013-12-10        0201-10-25      201    2013  \n",
       "117941 0213-08-15          2013-08-15        0213-08-15      213    2013  \n",
       "39103  1900-01-09          2003-11-01        1900-01-09     1900    2003  \n",
       "207545 1909-09-15          1991-02-15        1909-09-15     1909    1991  \n",
       "151667 1930-10-01          2005-01-15        1930-10-01     1930    2005  "
      ]
     },
     "metadata": {},
     "output_type": "display_data"
    },
    {
     "data": {
      "text/html": [
       "<table>\n",
       "<thead><tr><th></th><th scope=col>findings_start_date</th><th scope=col>findings_end_date</th><th scope=col>inv_start_date</th><th scope=col>yr_strt</th><th scope=col>yr_end</th></tr></thead>\n",
       "<tbody>\n",
       "\t<tr><th scope=row>188485</th><td>2016-02-21</td><td>2016-02-24</td><td>2016-02-21</td><td>2016      </td><td>2016      </td></tr>\n",
       "\t<tr><th scope=row>188512</th><td>2016-02-23</td><td>2016-03-29</td><td>2016-02-23</td><td>2016      </td><td>2016      </td></tr>\n",
       "\t<tr><th scope=row>188513</th><td>2016-03-07</td><td>2016-03-07</td><td>2016-03-07</td><td>2016      </td><td>2016      </td></tr>\n",
       "\t<tr><th scope=row>188565</th><td>2016-03-07</td><td>2016-03-11</td><td>2016-03-07</td><td>2016      </td><td>2016      </td></tr>\n",
       "\t<tr><th scope=row>186776</th><td>2016-03-16</td><td>2016-03-18</td><td>2016-03-16</td><td>2016      </td><td>2016      </td></tr>\n",
       "\t<tr><th scope=row>185977</th><td>2016-03-17</td><td>2016-03-23</td><td>2016-03-17</td><td>2016      </td><td>2016      </td></tr>\n",
       "</tbody>\n",
       "</table>\n"
      ],
      "text/latex": [
       "\\begin{tabular}{r|lllll}\n",
       "  & findings\\_start\\_date & findings\\_end\\_date & inv\\_start\\_date & yr\\_strt & yr\\_end\\\\\n",
       "\\hline\n",
       "\t188485 & 2016-02-21 & 2016-02-24 & 2016-02-21 & 2016       & 2016      \\\\\n",
       "\t188512 & 2016-02-23 & 2016-03-29 & 2016-02-23 & 2016       & 2016      \\\\\n",
       "\t188513 & 2016-03-07 & 2016-03-07 & 2016-03-07 & 2016       & 2016      \\\\\n",
       "\t188565 & 2016-03-07 & 2016-03-11 & 2016-03-07 & 2016       & 2016      \\\\\n",
       "\t186776 & 2016-03-16 & 2016-03-18 & 2016-03-16 & 2016       & 2016      \\\\\n",
       "\t185977 & 2016-03-17 & 2016-03-23 & 2016-03-17 & 2016       & 2016      \\\\\n",
       "\\end{tabular}\n"
      ],
      "text/plain": [
       "       findings_start_date findings_end_date inv_start_date yr_strt yr_end\n",
       "188485 2016-02-21          2016-02-24        2016-02-21     2016    2016  \n",
       "188512 2016-02-23          2016-03-29        2016-02-23     2016    2016  \n",
       "188513 2016-03-07          2016-03-07        2016-03-07     2016    2016  \n",
       "188565 2016-03-07          2016-03-11        2016-03-07     2016    2016  \n",
       "186776 2016-03-16          2016-03-18        2016-03-16     2016    2016  \n",
       "185977 2016-03-17          2016-03-23        2016-03-17     2016    2016  "
      ]
     },
     "metadata": {},
     "output_type": "display_data"
    },
    {
     "data": {
      "text/html": [
       "<table>\n",
       "<thead><tr><th></th><th scope=col>findings_start_date</th><th scope=col>findings_end_date</th><th scope=col>inv_end_date</th><th scope=col>yr_strt</th><th scope=col>yr_end</th></tr></thead>\n",
       "<tbody>\n",
       "\t<tr><th scope=row>90502</th><td>1985-03-01</td><td>1985-06-01</td><td>1985-06-01</td><td>1985      </td><td>1985      </td></tr>\n",
       "\t<tr><th scope=row>143711</th><td>1981-06-05</td><td>1987-02-07</td><td>1987-02-07</td><td>1981      </td><td>1987      </td></tr>\n",
       "\t<tr><th scope=row>172674</th><td>1986-01-01</td><td>1988-01-01</td><td>1988-01-01</td><td>1986      </td><td>1988      </td></tr>\n",
       "\t<tr><th scope=row>209205</th><td>1986-01-01</td><td>1988-01-01</td><td>1988-01-01</td><td>1986      </td><td>1988      </td></tr>\n",
       "\t<tr><th scope=row>172675</th><td>1986-01-01</td><td>1988-01-11</td><td>1988-01-11</td><td>1986      </td><td>1988      </td></tr>\n",
       "\t<tr><th scope=row>170165</th><td>1987-10-31</td><td>1988-01-27</td><td>1988-01-27</td><td>1987      </td><td>1988      </td></tr>\n",
       "</tbody>\n",
       "</table>\n"
      ],
      "text/latex": [
       "\\begin{tabular}{r|lllll}\n",
       "  & findings\\_start\\_date & findings\\_end\\_date & inv\\_end\\_date & yr\\_strt & yr\\_end\\\\\n",
       "\\hline\n",
       "\t90502 & 1985-03-01 & 1985-06-01 & 1985-06-01 & 1985       & 1985      \\\\\n",
       "\t143711 & 1981-06-05 & 1987-02-07 & 1987-02-07 & 1981       & 1987      \\\\\n",
       "\t172674 & 1986-01-01 & 1988-01-01 & 1988-01-01 & 1986       & 1988      \\\\\n",
       "\t209205 & 1986-01-01 & 1988-01-01 & 1988-01-01 & 1986       & 1988      \\\\\n",
       "\t172675 & 1986-01-01 & 1988-01-11 & 1988-01-11 & 1986       & 1988      \\\\\n",
       "\t170165 & 1987-10-31 & 1988-01-27 & 1988-01-27 & 1987       & 1988      \\\\\n",
       "\\end{tabular}\n"
      ],
      "text/plain": [
       "       findings_start_date findings_end_date inv_end_date yr_strt yr_end\n",
       "90502  1985-03-01          1985-06-01        1985-06-01   1985    1985  \n",
       "143711 1981-06-05          1987-02-07        1987-02-07   1981    1987  \n",
       "172674 1986-01-01          1988-01-01        1988-01-01   1986    1988  \n",
       "209205 1986-01-01          1988-01-01        1988-01-01   1986    1988  \n",
       "172675 1986-01-01          1988-01-11        1988-01-11   1986    1988  \n",
       "170165 1987-10-31          1988-01-27        1988-01-27   1987    1988  "
      ]
     },
     "metadata": {},
     "output_type": "display_data"
    },
    {
     "data": {
      "text/html": [
       "<table>\n",
       "<thead><tr><th></th><th scope=col>findings_start_date</th><th scope=col>findings_end_date</th><th scope=col>inv_end_date</th><th scope=col>yr_strt</th><th scope=col>yr_end</th></tr></thead>\n",
       "<tbody>\n",
       "\t<tr><th scope=row>186015</th><td>2014-03-23</td><td>2016-03-22</td><td>2016-03-22</td><td>2014      </td><td>2016      </td></tr>\n",
       "\t<tr><th scope=row>185977</th><td>2016-03-17</td><td>2016-03-23</td><td>2016-03-23</td><td>2016      </td><td>2016      </td></tr>\n",
       "\t<tr><th scope=row>187564</th><td>2014-05-01</td><td>2016-03-24</td><td>2016-03-24</td><td>2014      </td><td>2016      </td></tr>\n",
       "\t<tr><th scope=row>188555</th><td>2016-01-21</td><td>2016-03-25</td><td>2016-03-25</td><td>2016      </td><td>2016      </td></tr>\n",
       "\t<tr><th scope=row>188512</th><td>2016-02-23</td><td>2016-03-29</td><td>2016-03-29</td><td>2016      </td><td>2016      </td></tr>\n",
       "\t<tr><th scope=row>33686</th><td>2010-07-02</td><td>2024-04-22</td><td>2024-04-22</td><td>2010      </td><td>2024      </td></tr>\n",
       "</tbody>\n",
       "</table>\n"
      ],
      "text/latex": [
       "\\begin{tabular}{r|lllll}\n",
       "  & findings\\_start\\_date & findings\\_end\\_date & inv\\_end\\_date & yr\\_strt & yr\\_end\\\\\n",
       "\\hline\n",
       "\t186015 & 2014-03-23 & 2016-03-22 & 2016-03-22 & 2014       & 2016      \\\\\n",
       "\t185977 & 2016-03-17 & 2016-03-23 & 2016-03-23 & 2016       & 2016      \\\\\n",
       "\t187564 & 2014-05-01 & 2016-03-24 & 2016-03-24 & 2014       & 2016      \\\\\n",
       "\t188555 & 2016-01-21 & 2016-03-25 & 2016-03-25 & 2016       & 2016      \\\\\n",
       "\t188512 & 2016-02-23 & 2016-03-29 & 2016-03-29 & 2016       & 2016      \\\\\n",
       "\t33686 & 2010-07-02 & 2024-04-22 & 2024-04-22 & 2010       & 2024      \\\\\n",
       "\\end{tabular}\n"
      ],
      "text/plain": [
       "       findings_start_date findings_end_date inv_end_date yr_strt yr_end\n",
       "186015 2014-03-23          2016-03-22        2016-03-22   2014    2016  \n",
       "185977 2016-03-17          2016-03-23        2016-03-23   2016    2016  \n",
       "187564 2014-05-01          2016-03-24        2016-03-24   2014    2016  \n",
       "188555 2016-01-21          2016-03-25        2016-03-25   2016    2016  \n",
       "188512 2016-02-23          2016-03-29        2016-03-29   2016    2016  \n",
       "33686  2010-07-02          2024-04-22        2024-04-22   2010    2024  "
      ]
     },
     "metadata": {},
     "output_type": "display_data"
    },
    {
     "data": {
      "text/plain": [
       "\n",
       "  200   201   213  1900  1909  1930  1950  1951  1953  1958  1960  1961  1962 \n",
       "    1     1     1     1     1     1     1     1     1     1     1     2     1 \n",
       " 1969  1970  1977  1981  1984  1985  1986  1987  1988  1989  1990  1991  1992 \n",
       "    1     1     1     2     1     1     6     3     3     4    16     9     8 \n",
       " 1993  1994  1995  1996  1997  1998  1999  2000  2001  2002  2003  2004  2005 \n",
       "    8    23    34    55    96   238   349   713  1421  8013 16934 19198 18798 \n",
       " 2006  2007  2008  2009  2010  2011  2012  2013  2014  2015  2016 \n",
       "17786 16367 18366 22046 24320 21919 20073 14982  4672  1779    25 "
      ]
     },
     "metadata": {},
     "output_type": "display_data"
    }
   ],
   "source": [
    "#Get date columns in date values\n",
    "library(lubridate)\n",
    "whd$inv_start_date <- ymd(whd$findings_start_date)\n",
    "whd$inv_end_date <- ymd(whd$findings_end_date)\n",
    "\n",
    "#Check range of dates\n",
    "nrow(whd[is.na(whd$inv_start_date), ]) #0 cases without a start date\n",
    "nrow(whd[is.na(whd$inv_end_date), ]) #0 missing end date\n",
    "\n",
    "nrow(whd[is.na(whd$findings_start_date), ]) #0 missing start date\n",
    "nrow(whd[is.na(whd$findings_end_date), ]) #0 missing end date\n",
    "\n",
    "x <- whd[order(whd$inv_start_date), c(\"findings_start_date\", \"inv_start_date\")]\n",
    "head(x); tail(x)  #0200, 1900, 1909-09-15\", then 1950s??\n",
    "\n",
    "x <- whd[order(whd$inv_end_date), c(\"findings_end_date\", \"inv_end_date\")]\n",
    "head(x); tail(x)  #\"1988 - 2015\"\n",
    "\n",
    "whd$yr_strt <- year(whd$inv_start_date)\n",
    "whd$yr_end <- year(whd$inv_end_date)\n",
    "x <- whd[order(whd$inv_start_date), c(\"findings_start_date\", \"findings_end_date\",\"inv_start_date\", \"yr_strt\", \"yr_end\")]\n",
    "head(x); tail(x)  #\"200 - 2016\"\n",
    "\n",
    "x <- whd[order(whd$inv_end_date), c(\"findings_start_date\", \"findings_end_date\", \"inv_end_date\", \"yr_strt\", \"yr_end\")]\n",
    "head(x); tail(x)  #\"1985 -2024\"\n",
    "\n",
    "#Check distribution of case years\n",
    "table(whd$yr_strt)\n",
    "y <- data.frame(yr_strt_cat = ifelse(whd$yr_strt <= 1985, \"before 1985\", as.character(whd$yr_strt)), yr_strt = whd$yr_strt)\n",
    "\n",
    "#Just to check year categories\n",
    "#library(sqldf)\n",
    "#sqldf(\"select distinct yr_strt_cat, yr_strt from y order by yr_strt_cat desc, yr_strt\")\n",
    "\n",
    "#Thought I would just plot full range of years including <1985 aggregated, but decided not to"
   ]
  },
  {
   "cell_type": "code",
   "execution_count": 12,
   "metadata": {
    "collapsed": false
   },
   "outputs": [
    {
     "data": {},
     "metadata": {},
     "output_type": "display_data"
    },
    {
     "data": {
      "text/html": [
       "<table>\n",
       "<thead><tr><th scope=col>mean</th></tr></thead>\n",
       "<tbody>\n",
       "\t<tr><td>19162.64</td></tr>\n",
       "</tbody>\n",
       "</table>\n"
      ],
      "text/latex": [
       "\\begin{tabular}{r|l}\n",
       " mean\\\\\n",
       "\\hline\n",
       "\t 19162.64\\\\\n",
       "\\end{tabular}\n"
      ],
      "text/plain": [
       "  mean    \n",
       "1 19162.64"
      ]
     },
     "metadata": {},
     "output_type": "display_data"
    },
    {
     "data": {
      "image/png": "[encoded data removed]",
      "text/plain": [
       "plot without title"
      ]
     },
     "metadata": {},
     "output_type": "display_data"
    }
   ],
   "source": [
    "#Not too many data < year 1990. So truncate data at 1990\n",
    "#Let's plot something\n",
    "library(ggplot2)\n",
    "ggplot(data = whd[whd$yr_strt >=1990, ], aes(x = yr_strt)) +\n",
    "  geom_bar() +\n",
    "  ggtitle(\"# Wage Theft Cases over Investigation Years since 1990\")+\n",
    "  xlab('Yaer of Investigation')\n",
    "\n",
    "#What is the avg # cases during 2003 - 2013?\n",
    "whd[whd$yr_strt >=2003 & whd$yr_strt <=2013, ] %>% \n",
    "        group_by(yr_strt) %>%\n",
    "        summarise(N = n()) %>%\n",
    "        summarise(mean = mean(N))\n",
    "\n",
    "    "
   ]
  },
  {
   "cell_type": "code",
   "execution_count": 7,
   "metadata": {
    "collapsed": false
   },
   "outputs": [
    {
     "name": "stderr",
     "output_type": "stream",
     "text": [
      "------------------------------------------------------------------------------\n",
      "data.table + dplyr code now lives in dtplyr.\n",
      "Please library(dtplyr)!\n",
      "------------------------------------------------------------------------------\n",
      "\n",
      "Attaching package: 'dplyr'\n",
      "\n",
      "The following objects are masked from 'package:lubridate':\n",
      "\n",
      "    intersect, setdiff, union\n",
      "\n",
      "The following objects are masked from 'package:data.table':\n",
      "\n",
      "    between, last\n",
      "\n",
      "The following objects are masked from 'package:stats':\n",
      "\n",
      "    filter, lag\n",
      "\n",
      "The following objects are masked from 'package:base':\n",
      "\n",
      "    intersect, setdiff, setequal, union\n",
      "\n"
     ]
    }
   ],
   "source": [
    "#Statistics by sector of industries\n",
    "library(dplyr)\n",
    "\n",
    "Cnt <- whd %>% \n",
    "    group_by(naic_cd_lvl2, naic_description_lvl2) %>% \n",
    "    summarise(N = n()) %>% \n",
    "    #arrange(desc(N))  #58137 missing industry description ??\n",
    "    arrange(naic_description_lvl2)\n",
    "\n",
    "#Why is there a 'T' at the end of the description? Get rid of it\n",
    "whd$naic_description_lvl2 <- with(whd, substr(naic_description_lvl2, 1, nchar(naic_description_lvl2) - 1))\n",
    "\n",
    "\n",
    "#Fill in description for some naic lvl2 codes\n",
    "whd[whd$naic_cd_lvl2 %in% c(\"44\", \"45\"), \"naic_description_lvl2\"] <- 'Retail Trade'\n",
    "whd[whd$naic_cd_lvl2 %in% c(\"48\", \"49\"), \"naic_description_lvl2\"] <- 'Transportation and Warehousing'\n",
    "whd[whd$naic_cd_lvl2 %in% c(\"31\", \"32\", \"33\"), \"naic_description_lvl2\"] <- 'Manufacturing'\n"
   ]
  },
  {
   "cell_type": "code",
   "execution_count": 8,
   "metadata": {
    "collapsed": false
   },
   "outputs": [
    {
     "data": {
      "text/html": [
       "<table>\n",
       "<thead><tr><th scope=col>naic_description_lvl2</th><th scope=col>N</th></tr></thead>\n",
       "<tbody>\n",
       "\t<tr><td>Accommodation and Food Services                                         </td><td>45878                                                                   </td></tr>\n",
       "\t<tr><td>Health Care and Social Assistance                                       </td><td>28077                                                                   </td></tr>\n",
       "\t<tr><td>Construction                                                            </td><td>26261                                                                   </td></tr>\n",
       "\t<tr><td>Retail Trade                                                            </td><td>25320                                                                   </td></tr>\n",
       "\t<tr><td>Administrative and Support and Waste Management and Remediation Services</td><td>16957                                                                   </td></tr>\n",
       "\t<tr><td>Agriculture, Forestry, Fishing and Hunting                              </td><td>16401                                                                   </td></tr>\n",
       "\t<tr><td>Manufacturing                                                           </td><td>16022                                                                   </td></tr>\n",
       "\t<tr><td>Transportation and Warehousing                                          </td><td> 8953                                                                   </td></tr>\n",
       "\t<tr><td>Other Services (except Public Administration)                           </td><td> 8347                                                                   </td></tr>\n",
       "\t<tr><td>Professional, Scientific, and Technical Services                        </td><td> 6973                                                                   </td></tr>\n",
       "\t<tr><td>Wholesale Trade                                                         </td><td> 4018                                                                   </td></tr>\n",
       "\t<tr><td>Real Estate and Rental and Leasing                                      </td><td> 3298                                                                   </td></tr>\n",
       "\t<tr><td>Finance and Insurance                                                   </td><td> 3080                                                                   </td></tr>\n",
       "\t<tr><td>Arts, Entertainment, and Recreation                                     </td><td> 2907                                                                   </td></tr>\n",
       "\t<tr><td>Information                                                             </td><td> 2896                                                                   </td></tr>\n",
       "\t<tr><td>Mining, Quarrying, and Oil and Gas Extraction                           </td><td> 1620                                                                   </td></tr>\n",
       "\t<tr><td>Educational Services                                                    </td><td> 1442                                                                   </td></tr>\n",
       "\t<tr><td>Public Administration                                                   </td><td> 1250                                                                   </td></tr>\n",
       "\t<tr><td>Utilities                                                               </td><td>  533                                                                   </td></tr>\n",
       "\t<tr><td>Management of Companies and Enterprises                                 </td><td>  210                                                                   </td></tr>\n",
       "</tbody>\n",
       "</table>\n"
      ],
      "text/latex": [
       "\\begin{tabular}{r|ll}\n",
       " naic\\_description\\_lvl2 & N\\\\\n",
       "\\hline\n",
       "\t Accommodation and Food Services                                          & 45878                                                                   \\\\\n",
       "\t Health Care and Social Assistance                                        & 28077                                                                   \\\\\n",
       "\t Construction                                                             & 26261                                                                   \\\\\n",
       "\t Retail Trade                                                             & 25320                                                                   \\\\\n",
       "\t Administrative and Support and Waste Management and Remediation Services & 16957                                                                   \\\\\n",
       "\t Agriculture, Forestry, Fishing and Hunting                               & 16401                                                                   \\\\\n",
       "\t Manufacturing                                                            & 16022                                                                   \\\\\n",
       "\t Transportation and Warehousing                                           &  8953                                                                   \\\\\n",
       "\t Other Services (except Public Administration)                            &  8347                                                                   \\\\\n",
       "\t Professional, Scientific, and Technical Services                         &  6973                                                                   \\\\\n",
       "\t Wholesale Trade                                                          &  4018                                                                   \\\\\n",
       "\t Real Estate and Rental and Leasing                                       &  3298                                                                   \\\\\n",
       "\t Finance and Insurance                                                    &  3080                                                                   \\\\\n",
       "\t Arts, Entertainment, and Recreation                                      &  2907                                                                   \\\\\n",
       "\t Information                                                              &  2896                                                                   \\\\\n",
       "\t Mining, Quarrying, and Oil and Gas Extraction                            &  1620                                                                   \\\\\n",
       "\t Educational Services                                                     &  1442                                                                   \\\\\n",
       "\t Public Administration                                                    &  1250                                                                   \\\\\n",
       "\t Utilities                                                                &   533                                                                   \\\\\n",
       "\t Management of Companies and Enterprises                                  &   210                                                                   \\\\\n",
       "\\end{tabular}\n"
      ],
      "text/plain": [
       "   naic_description_lvl2                                                   \n",
       "1  Accommodation and Food Services                                         \n",
       "2  Health Care and Social Assistance                                       \n",
       "3  Construction                                                            \n",
       "4  Retail Trade                                                            \n",
       "5  Administrative and Support and Waste Management and Remediation Services\n",
       "6  Agriculture, Forestry, Fishing and Hunting                              \n",
       "7  Manufacturing                                                           \n",
       "8  Transportation and Warehousing                                          \n",
       "9  Other Services (except Public Administration)                           \n",
       "10 Professional, Scientific, and Technical Services                        \n",
       "11 Wholesale Trade                                                         \n",
       "12 Real Estate and Rental and Leasing                                      \n",
       "13 Finance and Insurance                                                   \n",
       "14 Arts, Entertainment, and Recreation                                     \n",
       "15 Information                                                             \n",
       "16 Mining, Quarrying, and Oil and Gas Extraction                           \n",
       "17 Educational Services                                                    \n",
       "18 Public Administration                                                   \n",
       "19 Utilities                                                               \n",
       "20 Management of Companies and Enterprises                                 \n",
       "   N    \n",
       "1  45878\n",
       "2  28077\n",
       "3  26261\n",
       "4  25320\n",
       "5  16957\n",
       "6  16401\n",
       "7  16022\n",
       "8   8953\n",
       "9   8347\n",
       "10  6973\n",
       "11  4018\n",
       "12  3298\n",
       "13  3080\n",
       "14  2907\n",
       "15  2896\n",
       "16  1620\n",
       "17  1442\n",
       "18  1250\n",
       "19   533\n",
       "20   210"
      ]
     },
     "metadata": {},
     "output_type": "display_data"
    },
    {
     "data": {},
     "metadata": {},
     "output_type": "display_data"
    },
    {
     "data": {
      "image/png": "[encoded data removed]",
      "text/plain": [
       "plot without title"
      ]
     },
     "metadata": {},
     "output_type": "display_data"
    }
   ],
   "source": [
    "### 1. Cases per sector\n",
    "cases <- whd %>% \n",
    "        group_by(naic_description_lvl2) %>% \n",
    "        summarise(N = n()) %>% \n",
    "        filter(naic_description_lvl2 != '') %>%\n",
    "        arrange(desc(N))\n",
    "cases\n",
    "\n",
    "#Sort bars by descending stat\n",
    "Sector_sort1 <- factor(cases$naic_description_lvl2, \n",
    "                      levels=cases$naic_description_lvl2)\n",
    "\n",
    "levels(Sector_sort1) <- gsub(\" \", \"\\n\", levels(Sector_sort1))\n",
    "\n",
    "#Top 10 Sectors with the highest incidence\n",
    "ggplot(data = cases[1:10, ], aes(x = Sector_sort1[1:10], y = N)) +\n",
    "  geom_bar(stat = \"identity\", width = 0.3) + \n",
    "  ggtitle(\"Top 10 Sectors with The Highest Incidence\") +\n",
    "  theme(axis.text.x = element_text(hjust = 1, size = 12)) + #angle = 60\n",
    "  xlab(\"Sector\")"
   ]
  },
  {
   "cell_type": "code",
   "execution_count": 15,
   "metadata": {
    "collapsed": false
   },
   "outputs": [
    {
     "data": {
      "text/html": [
       "<table>\n",
       "<thead><tr><th scope=col>naic_description_lvl2</th><th scope=col>med_ttl_bw</th></tr></thead>\n",
       "<tbody>\n",
       "\t<tr><td>Professional, Scientific, and Technical Services                        </td><td>1751.120                                                                </td></tr>\n",
       "\t<tr><td>Management of Companies and Enterprises                                 </td><td>1015.410                                                                </td></tr>\n",
       "\t<tr><td>Real Estate and Rental and Leasing                                      </td><td> 889.170                                                                </td></tr>\n",
       "\t<tr><td>Construction                                                            </td><td> 782.310                                                                </td></tr>\n",
       "\t<tr><td>Other Services (except Public Administration)                           </td><td> 764.400                                                                </td></tr>\n",
       "\t<tr><td>Wholesale Trade                                                         </td><td> 737.625                                                                </td></tr>\n",
       "\t<tr><td>Finance and Insurance                                                   </td><td> 715.895                                                                </td></tr>\n",
       "\t<tr><td>Administrative and Support and Waste Management and Remediation Services</td><td> 713.250                                                                </td></tr>\n",
       "\t<tr><td>Health Care and Social Assistance                                       </td><td> 665.590                                                                </td></tr>\n",
       "\t<tr><td>Educational Services                                                    </td><td> 623.855                                                                </td></tr>\n",
       "\t<tr><td>Information                                                             </td><td> 508.940                                                                </td></tr>\n",
       "\t<tr><td>Accommodation and Food Services                                         </td><td> 482.905                                                                </td></tr>\n",
       "\t<tr><td>Mining, Quarrying, and Oil and Gas Extraction                           </td><td> 430.020                                                                </td></tr>\n",
       "\t<tr><td>Utilities                                                               </td><td> 375.000                                                                </td></tr>\n",
       "\t<tr><td>Retail Trade                                                            </td><td> 320.050                                                                </td></tr>\n",
       "\t<tr><td>Public Administration                                                   </td><td> 288.580                                                                </td></tr>\n",
       "\t<tr><td>NA                                                                      </td><td> 285.740                                                                </td></tr>\n",
       "\t<tr><td>Transportation and Warehousing                                          </td><td> 200.000                                                                </td></tr>\n",
       "\t<tr><td>Arts, Entertainment, and Recreation                                     </td><td> 140.930                                                                </td></tr>\n",
       "\t<tr><td>Agriculture, Forestry, Fishing and Hunting                              </td><td>   0.000                                                                </td></tr>\n",
       "\t<tr><td>Manufacturing                                                           </td><td>   0.000                                                                </td></tr>\n",
       "</tbody>\n",
       "</table>\n"
      ],
      "text/latex": [
       "\\begin{tabular}{r|ll}\n",
       " naic\\_description\\_lvl2 & med\\_ttl\\_bw\\\\\n",
       "\\hline\n",
       "\t Professional, Scientific, and Technical Services                         & 1751.120                                                                \\\\\n",
       "\t Management of Companies and Enterprises                                  & 1015.410                                                                \\\\\n",
       "\t Real Estate and Rental and Leasing                                       &  889.170                                                                \\\\\n",
       "\t Construction                                                             &  782.310                                                                \\\\\n",
       "\t Other Services (except Public Administration)                            &  764.400                                                                \\\\\n",
       "\t Wholesale Trade                                                          &  737.625                                                                \\\\\n",
       "\t Finance and Insurance                                                    &  715.895                                                                \\\\\n",
       "\t Administrative and Support and Waste Management and Remediation Services &  713.250                                                                \\\\\n",
       "\t Health Care and Social Assistance                                        &  665.590                                                                \\\\\n",
       "\t Educational Services                                                     &  623.855                                                                \\\\\n",
       "\t Information                                                              &  508.940                                                                \\\\\n",
       "\t Accommodation and Food Services                                          &  482.905                                                                \\\\\n",
       "\t Mining, Quarrying, and Oil and Gas Extraction                            &  430.020                                                                \\\\\n",
       "\t Utilities                                                                &  375.000                                                                \\\\\n",
       "\t Retail Trade                                                             &  320.050                                                                \\\\\n",
       "\t Public Administration                                                    &  288.580                                                                \\\\\n",
       "\t NA                                                                       &  285.740                                                                \\\\\n",
       "\t Transportation and Warehousing                                           &  200.000                                                                \\\\\n",
       "\t Arts, Entertainment, and Recreation                                      &  140.930                                                                \\\\\n",
       "\t Agriculture, Forestry, Fishing and Hunting                               &    0.000                                                                \\\\\n",
       "\t Manufacturing                                                            &    0.000                                                                \\\\\n",
       "\\end{tabular}\n"
      ],
      "text/plain": [
       "   naic_description_lvl2                                                   \n",
       "1  Professional, Scientific, and Technical Services                        \n",
       "2  Management of Companies and Enterprises                                 \n",
       "3  Real Estate and Rental and Leasing                                      \n",
       "4  Construction                                                            \n",
       "5  Other Services (except Public Administration)                           \n",
       "6  Wholesale Trade                                                         \n",
       "7  Finance and Insurance                                                   \n",
       "8  Administrative and Support and Waste Management and Remediation Services\n",
       "9  Health Care and Social Assistance                                       \n",
       "10 Educational Services                                                    \n",
       "11 Information                                                             \n",
       "12 Accommodation and Food Services                                         \n",
       "13 Mining, Quarrying, and Oil and Gas Extraction                           \n",
       "14 Utilities                                                               \n",
       "15 Retail Trade                                                            \n",
       "16 Public Administration                                                   \n",
       "17 NA                                                                      \n",
       "18 Transportation and Warehousing                                          \n",
       "19 Arts, Entertainment, and Recreation                                     \n",
       "20 Agriculture, Forestry, Fishing and Hunting                              \n",
       "21 Manufacturing                                                           \n",
       "   med_ttl_bw\n",
       "1  1751.120  \n",
       "2  1015.410  \n",
       "3   889.170  \n",
       "4   782.310  \n",
       "5   764.400  \n",
       "6   737.625  \n",
       "7   715.895  \n",
       "8   713.250  \n",
       "9   665.590  \n",
       "10  623.855  \n",
       "11  508.940  \n",
       "12  482.905  \n",
       "13  430.020  \n",
       "14  375.000  \n",
       "15  320.050  \n",
       "16  288.580  \n",
       "17  285.740  \n",
       "18  200.000  \n",
       "19  140.930  \n",
       "20    0.000  \n",
       "21    0.000  "
      ]
     },
     "metadata": {},
     "output_type": "display_data"
    },
    {
     "data": {},
     "metadata": {},
     "output_type": "display_data"
    },
    {
     "data": {
      "image/png": "[encoded data removed]",
      "text/plain": [
       "plot without title"
      ]
     },
     "metadata": {},
     "output_type": "display_data"
    }
   ],
   "source": [
    "### 2. Median total back wages by industry sectors\n",
    "tbw <- whd %>% \n",
    "    group_by(naic_description_lvl2) %>%  \n",
    "    summarise(med_ttl_bw = median(bw_atp_amt)) %>%\n",
    "    arrange(desc(med_ttl_bw))\n",
    "tbw\n",
    "\n",
    "#Create a factor to sort bars by descending stat\n",
    "Sector_sort2 <- factor(tbw$naic_description_lvl2, \n",
    "                      levels=tbw$naic_description_lvl2)\n",
    "\n",
    "levels(Sector_sort2) <- gsub(\" \", \"\\n\", levels(Sector_sort2))\n",
    "  \n",
    "#Top 10 Sectors with The Highest Median back wages\n",
    "ggplot(data = tbw[1:10, ], aes(x = Sector_sort2[1:10], y = med_ttl_bw)) +\n",
    "  geom_bar(stat = \"identity\", width = 0.3) + \n",
    "  ggtitle(\"Top 10 Sectors with The Highest Median Total Back Wages\") +\n",
    "  theme(axis.text.x = element_text(hjust = 1)) + #angle = 60\n",
    "  ylab(\"Median Total Back Wages ($)\") +\n",
    "  xlab(\"Sector\")"
   ]
  },
  {
   "cell_type": "code",
   "execution_count": 16,
   "metadata": {
    "collapsed": false
   },
   "outputs": [
    {
     "data": {
      "text/html": [
       "<table>\n",
       "<thead><tr><th scope=col>naic_description_lvl2</th><th scope=col>ttl_min_bw</th></tr></thead>\n",
       "<tbody>\n",
       "\t<tr><td>Accommodation and Food Services                                         </td><td>98.7640453                                                              </td></tr>\n",
       "\t<tr><td>Health Care and Social Assistance                                       </td><td>24.6576914                                                              </td></tr>\n",
       "\t<tr><td>Manufacturing                                                           </td><td>23.6578815                                                              </td></tr>\n",
       "\t<tr><td>Retail Trade                                                            </td><td>22.1964923                                                              </td></tr>\n",
       "\t<tr><td>Administrative and Support and Waste Management and Remediation Services</td><td>14.4081452                                                              </td></tr>\n",
       "\t<tr><td>Other Services (except Public Administration)                           </td><td>13.1265320                                                              </td></tr>\n",
       "\t<tr><td>Transportation and Warehousing                                          </td><td>11.6687517                                                              </td></tr>\n",
       "\t<tr><td>Finance and Insurance                                                   </td><td> 9.4652314                                                              </td></tr>\n",
       "\t<tr><td>Construction                                                            </td><td> 8.0139925                                                              </td></tr>\n",
       "\t<tr><td>Arts, Entertainment, and Recreation                                     </td><td> 5.3330846                                                              </td></tr>\n",
       "\t<tr><td>Professional, Scientific, and Technical Services                        </td><td> 4.9792786                                                              </td></tr>\n",
       "\t<tr><td>NA                                                                      </td><td> 4.7024655                                                              </td></tr>\n",
       "\t<tr><td>Agriculture, Forestry, Fishing and Hunting                              </td><td> 4.2252575                                                              </td></tr>\n",
       "\t<tr><td>Wholesale Trade                                                         </td><td> 4.1177704                                                              </td></tr>\n",
       "\t<tr><td>Information                                                             </td><td> 3.7252991                                                              </td></tr>\n",
       "\t<tr><td>Real Estate and Rental and Leasing                                      </td><td> 2.1247423                                                              </td></tr>\n",
       "\t<tr><td>Educational Services                                                    </td><td> 1.8021393                                                              </td></tr>\n",
       "\t<tr><td>Public Administration                                                   </td><td> 0.7621702                                                              </td></tr>\n",
       "\t<tr><td>Mining, Quarrying, and Oil and Gas Extraction                           </td><td> 0.4788398                                                              </td></tr>\n",
       "\t<tr><td>Management of Companies and Enterprises                                 </td><td> 0.3528882                                                              </td></tr>\n",
       "\t<tr><td>Utilities                                                               </td><td> 0.2192754                                                              </td></tr>\n",
       "</tbody>\n",
       "</table>\n"
      ],
      "text/latex": [
       "\\begin{tabular}{r|ll}\n",
       " naic\\_description\\_lvl2 & ttl\\_min\\_bw\\\\\n",
       "\\hline\n",
       "\t Accommodation and Food Services                                          & 98.7640453                                                              \\\\\n",
       "\t Health Care and Social Assistance                                        & 24.6576914                                                              \\\\\n",
       "\t Manufacturing                                                            & 23.6578815                                                              \\\\\n",
       "\t Retail Trade                                                             & 22.1964923                                                              \\\\\n",
       "\t Administrative and Support and Waste Management and Remediation Services & 14.4081452                                                              \\\\\n",
       "\t Other Services (except Public Administration)                            & 13.1265320                                                              \\\\\n",
       "\t Transportation and Warehousing                                           & 11.6687517                                                              \\\\\n",
       "\t Finance and Insurance                                                    &  9.4652314                                                              \\\\\n",
       "\t Construction                                                             &  8.0139925                                                              \\\\\n",
       "\t Arts, Entertainment, and Recreation                                      &  5.3330846                                                              \\\\\n",
       "\t Professional, Scientific, and Technical Services                         &  4.9792786                                                              \\\\\n",
       "\t NA                                                                       &  4.7024655                                                              \\\\\n",
       "\t Agriculture, Forestry, Fishing and Hunting                               &  4.2252575                                                              \\\\\n",
       "\t Wholesale Trade                                                          &  4.1177704                                                              \\\\\n",
       "\t Information                                                              &  3.7252991                                                              \\\\\n",
       "\t Real Estate and Rental and Leasing                                       &  2.1247423                                                              \\\\\n",
       "\t Educational Services                                                     &  1.8021393                                                              \\\\\n",
       "\t Public Administration                                                    &  0.7621702                                                              \\\\\n",
       "\t Mining, Quarrying, and Oil and Gas Extraction                            &  0.4788398                                                              \\\\\n",
       "\t Management of Companies and Enterprises                                  &  0.3528882                                                              \\\\\n",
       "\t Utilities                                                                &  0.2192754                                                              \\\\\n",
       "\\end{tabular}\n"
      ],
      "text/plain": [
       "   naic_description_lvl2                                                   \n",
       "1  Accommodation and Food Services                                         \n",
       "2  Health Care and Social Assistance                                       \n",
       "3  Manufacturing                                                           \n",
       "4  Retail Trade                                                            \n",
       "5  Administrative and Support and Waste Management and Remediation Services\n",
       "6  Other Services (except Public Administration)                           \n",
       "7  Transportation and Warehousing                                          \n",
       "8  Finance and Insurance                                                   \n",
       "9  Construction                                                            \n",
       "10 Arts, Entertainment, and Recreation                                     \n",
       "11 Professional, Scientific, and Technical Services                        \n",
       "12 NA                                                                      \n",
       "13 Agriculture, Forestry, Fishing and Hunting                              \n",
       "14 Wholesale Trade                                                         \n",
       "15 Information                                                             \n",
       "16 Real Estate and Rental and Leasing                                      \n",
       "17 Educational Services                                                    \n",
       "18 Public Administration                                                   \n",
       "19 Mining, Quarrying, and Oil and Gas Extraction                           \n",
       "20 Management of Companies and Enterprises                                 \n",
       "21 Utilities                                                               \n",
       "   ttl_min_bw\n",
       "1  98.7640453\n",
       "2  24.6576914\n",
       "3  23.6578815\n",
       "4  22.1964923\n",
       "5  14.4081452\n",
       "6  13.1265320\n",
       "7  11.6687517\n",
       "8   9.4652314\n",
       "9   8.0139925\n",
       "10  5.3330846\n",
       "11  4.9792786\n",
       "12  4.7024655\n",
       "13  4.2252575\n",
       "14  4.1177704\n",
       "15  3.7252991\n",
       "16  2.1247423\n",
       "17  1.8021393\n",
       "18  0.7621702\n",
       "19  0.4788398\n",
       "20  0.3528882\n",
       "21  0.2192754"
      ]
     },
     "metadata": {},
     "output_type": "display_data"
    },
    {
     "data": {},
     "metadata": {},
     "output_type": "display_data"
    },
    {
     "data": {
      "image/png": "[encoded data removed]",
      "text/plain": [
       "plot without title"
      ]
     },
     "metadata": {},
     "output_type": "display_data"
    }
   ],
   "source": [
    "### 3. Total minimum wage back wages in millions\n",
    "mbw <- whd %>% \n",
    "  group_by(naic_description_lvl2) %>%  \n",
    "  summarise(ttl_min_bw = sum(flsa_mw_bw_atp_amt)/1000000) %>%\n",
    "  arrange(desc(ttl_min_bw))\n",
    "mbw\n",
    "\n",
    "#Create a factor to sort sectors by descending stat\n",
    "Sector_sort3 <- factor(mbw$naic_description_lvl2, \n",
    "                       levels=mbw$naic_description_lvl2)\n",
    "\n",
    "levels(Sector_sort3) <- gsub(\" \", \"\\n\", levels(Sector_sort3))\n",
    "\n",
    "#Top 10 Sectors with The Highest Mininum back wages\n",
    "options(scipen = 99)\n",
    "ggplot(data = mbw[1:10, ], aes(x = Sector_sort3[1:10], y = ttl_min_bw)) +\n",
    "  geom_bar(stat = \"identity\", width = 0.3) + \n",
    "  ggtitle(\"Top 10 Sectors with the Highest Amount of Minimum Wage Back Wages\") +\n",
    "  theme(axis.text.x = element_text(hjust = 1)) + #angle = 60\n",
    "  ylab(\"Toal Minimum Wage Back Wages ($ Millions)\") +\n",
    "  xlab(\"Sector\")"
   ]
  },
  {
   "cell_type": "code",
   "execution_count": null,
   "metadata": {
    "collapsed": true
   },
   "outputs": [],
   "source": [
    "#*********************************************************************************************************************\n",
    "#Conclusion:\n",
    "#Most wages theft activities were recorded during years 2003 to 2013, with an average of 19000 cases per year.\n",
    "#In general, back wages are very common in Accommodation and Food Services, Administrative and Support, Construction, \n",
    "#Health Care and Social Assistance, and Retail sectors.\n",
    "\n"
   ]
  }
 ],
 "metadata": {
  "kernelspec": {
   "display_name": "R 3.3",
   "language": "R",
   "name": "ir33"
  },
  "language_info": {
   "codemirror_mode": "r",
   "file_extension": ".r",
   "mimetype": "text/x-r-source",
   "name": "R",
   "pygments_lexer": "r",
   "version": "3.3.1"
  }
 },
 "nbformat": 4,
 "nbformat_minor": 0
}
